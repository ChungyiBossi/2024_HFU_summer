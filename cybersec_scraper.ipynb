{
  "nbformat": 4,
  "nbformat_minor": 0,
  "metadata": {
    "colab": {
      "provenance": [],
      "collapsed_sections": [
        "pqt7meGUIwtY"
      ]
    },
    "kernelspec": {
      "name": "python3",
      "display_name": "Python 3"
    },
    "language_info": {
      "name": "python"
    }
  },
  "cells": [
    {
      "cell_type": "markdown",
      "source": [
        "## 參展店家"
      ],
      "metadata": {
        "id": "7PTKCMdtIp3L"
      }
    },
    {
      "cell_type": "code",
      "execution_count": null,
      "metadata": {
        "id": "M618LE1DGgvK"
      },
      "outputs": [],
      "source": [
        "import requests\n",
        "from bs4 import BeautifulSoup"
      ]
    },
    {
      "cell_type": "code",
      "source": [
        "url = \"https://cybersec.ithome.com.tw/2024/exhibitionDirectory\""
      ],
      "metadata": {
        "id": "Y85Qv6x4GqzS"
      },
      "execution_count": null,
      "outputs": []
    },
    {
      "cell_type": "code",
      "source": [
        "# 1. 先去取得資訊: 回傳一份完整的html + js 字串\n",
        "response = requests.get(url)\n",
        "response"
      ],
      "metadata": {
        "colab": {
          "base_uri": "https://localhost:8080/"
        },
        "id": "tIqI4w8JGtjr",
        "outputId": "488bb698-dd5d-4062-c529-4757f46d1482"
      },
      "execution_count": null,
      "outputs": [
        {
          "output_type": "execute_result",
          "data": {
            "text/plain": [
              "<Response [200]>"
            ]
          },
          "metadata": {},
          "execution_count": 3
        }
      ]
    },
    {
      "cell_type": "code",
      "source": [
        "len(response.text)"
      ],
      "metadata": {
        "colab": {
          "base_uri": "https://localhost:8080/"
        },
        "id": "oBUsgeL1SadV",
        "outputId": "6dd34e4f-49aa-4410-a731-6c190a80d0e9"
      },
      "execution_count": null,
      "outputs": [
        {
          "output_type": "execute_result",
          "data": {
            "text/plain": [
              "717633"
            ]
          },
          "metadata": {},
          "execution_count": 4
        }
      ]
    },
    {
      "cell_type": "code",
      "source": [
        "# 2. 把剛剛得到的字串，丟給beautifulsoup處理\n",
        "# 3. 找出所有的<div class='exd-card'>\n",
        "soup = BeautifulSoup(response.text, \"html.parser\")\n",
        "exd_cards = soup.find_all(\"div\", attrs={\"class\": \"exd-card\"})\n",
        "len(exd_cards)"
      ],
      "metadata": {
        "colab": {
          "base_uri": "https://localhost:8080/"
        },
        "id": "qACwUds5G3r8",
        "outputId": "8a7535da-7058-4435-b68a-cf1453cfd60a"
      },
      "execution_count": null,
      "outputs": [
        {
          "output_type": "execute_result",
          "data": {
            "text/plain": [
              "374"
            ]
          },
          "metadata": {},
          "execution_count": 5
        }
      ]
    },
    {
      "cell_type": "code",
      "source": [
        "url_prefix = \"https://cybersec.ithome.com.tw\"\n",
        "exd_cards_info = list()\n",
        "\n",
        "for exd_card in exd_cards:\n",
        "    # 找連結\n",
        "    href = url_prefix + exd_card.a[\"href\"]\n",
        "\n",
        "    # 展攤名稱\n",
        "    exd_name = exd_card.h5.text\n",
        "\n",
        "    # 展攤位置編號\n",
        "    if exd_card.h6: # 判斷是否為None\n",
        "      exd_id = exd_card.h6.text.split(\"：\")[1]\n",
        "    else:\n",
        "      exd_id = \"\"\n",
        "\n",
        "    # print(href, exd_name, exd_id)\n",
        "    exd_cards_info.append({\n",
        "        'exd_link': href,\n",
        "        'exd_name': exd_name,\n",
        "        'exd_id': exd_id\n",
        "    })"
      ],
      "metadata": {
        "id": "4yocKDBeHJ-N"
      },
      "execution_count": null,
      "outputs": []
    },
    {
      "cell_type": "code",
      "source": [
        "len(exd_cards_info)"
      ],
      "metadata": {
        "colab": {
          "base_uri": "https://localhost:8080/"
        },
        "id": "mwVyMeAUVdx-",
        "outputId": "49071121-a838-42c5-bd0e-49e9c3c96779"
      },
      "execution_count": null,
      "outputs": [
        {
          "output_type": "execute_result",
          "data": {
            "text/plain": [
              "374"
            ]
          },
          "metadata": {},
          "execution_count": 7
        }
      ]
    },
    {
      "cell_type": "code",
      "source": [
        "exd_cards_info[0:5]"
      ],
      "metadata": {
        "colab": {
          "base_uri": "https://localhost:8080/"
        },
        "id": "Ux6URZjdH2_Y",
        "outputId": "705dcdcb-7e42-4f47-8571-b67f6fcc5b7b"
      },
      "execution_count": null,
      "outputs": [
        {
          "output_type": "execute_result",
          "data": {
            "text/plain": [
              "[{'exd_link': 'https://cybersec.ithome.com.tw/2024/exhibition-page/2054',\n",
              "  'exd_name': 'A10 Networks',\n",
              "  'exd_id': 'C307'},\n",
              " {'exd_link': 'https://cybersec.ithome.com.tw/2024/exhibition-page/2226',\n",
              "  'exd_name': '三甲科技',\n",
              "  'exd_id': 'T37'},\n",
              " {'exd_link': 'https://cybersec.ithome.com.tw/2024/exhibition-page/2079',\n",
              "  'exd_name': 'ABPSecurite',\n",
              "  'exd_id': 'P302'},\n",
              " {'exd_link': 'https://cybersec.ithome.com.tw/2024/exhibition-page/2249',\n",
              "  'exd_name': 'ACAD 安碁學苑股份有限公司',\n",
              "  'exd_id': 'CT08'},\n",
              " {'exd_link': 'https://cybersec.ithome.com.tw/2024/exhibition-page/2000',\n",
              "  'exd_name': '鼎峰亞太',\n",
              "  'exd_id': 'P216'}]"
            ]
          },
          "metadata": {},
          "execution_count": 8
        }
      ]
    },
    {
      "cell_type": "code",
      "source": [
        "import pandas as pd\n",
        "data = pd.DataFrame(exd_cards_info) # 轉換成DataFrame\n",
        "data.to_csv('cybersec_exd.csv')"
      ],
      "metadata": {
        "id": "-AnRANcKOBsZ"
      },
      "execution_count": null,
      "outputs": []
    },
    {
      "cell_type": "code",
      "source": [
        "data.head()"
      ],
      "metadata": {
        "colab": {
          "base_uri": "https://localhost:8080/",
          "height": 206
        },
        "id": "-9aEjyxiW8wv",
        "outputId": "94f6dd63-e9b0-4c9c-cd06-f5652bea53a6"
      },
      "execution_count": null,
      "outputs": [
        {
          "output_type": "execute_result",
          "data": {
            "text/plain": [
              "                                            exd_link         exd_name exd_id\n",
              "0  https://cybersec.ithome.com.tw/2024/exhibition...     A10 Networks   C307\n",
              "1  https://cybersec.ithome.com.tw/2024/exhibition...             三甲科技    T37\n",
              "2  https://cybersec.ithome.com.tw/2024/exhibition...      ABPSecurite   P302\n",
              "3  https://cybersec.ithome.com.tw/2024/exhibition...  ACAD 安碁學苑股份有限公司   CT08\n",
              "4  https://cybersec.ithome.com.tw/2024/exhibition...             鼎峰亞太   P216"
            ],
            "text/html": [
              "\n",
              "  <div id=\"df-381799bd-2894-46bb-9bce-0569489078ec\" class=\"colab-df-container\">\n",
              "    <div>\n",
              "<style scoped>\n",
              "    .dataframe tbody tr th:only-of-type {\n",
              "        vertical-align: middle;\n",
              "    }\n",
              "\n",
              "    .dataframe tbody tr th {\n",
              "        vertical-align: top;\n",
              "    }\n",
              "\n",
              "    .dataframe thead th {\n",
              "        text-align: right;\n",
              "    }\n",
              "</style>\n",
              "<table border=\"1\" class=\"dataframe\">\n",
              "  <thead>\n",
              "    <tr style=\"text-align: right;\">\n",
              "      <th></th>\n",
              "      <th>exd_link</th>\n",
              "      <th>exd_name</th>\n",
              "      <th>exd_id</th>\n",
              "    </tr>\n",
              "  </thead>\n",
              "  <tbody>\n",
              "    <tr>\n",
              "      <th>0</th>\n",
              "      <td>https://cybersec.ithome.com.tw/2024/exhibition...</td>\n",
              "      <td>A10 Networks</td>\n",
              "      <td>C307</td>\n",
              "    </tr>\n",
              "    <tr>\n",
              "      <th>1</th>\n",
              "      <td>https://cybersec.ithome.com.tw/2024/exhibition...</td>\n",
              "      <td>三甲科技</td>\n",
              "      <td>T37</td>\n",
              "    </tr>\n",
              "    <tr>\n",
              "      <th>2</th>\n",
              "      <td>https://cybersec.ithome.com.tw/2024/exhibition...</td>\n",
              "      <td>ABPSecurite</td>\n",
              "      <td>P302</td>\n",
              "    </tr>\n",
              "    <tr>\n",
              "      <th>3</th>\n",
              "      <td>https://cybersec.ithome.com.tw/2024/exhibition...</td>\n",
              "      <td>ACAD 安碁學苑股份有限公司</td>\n",
              "      <td>CT08</td>\n",
              "    </tr>\n",
              "    <tr>\n",
              "      <th>4</th>\n",
              "      <td>https://cybersec.ithome.com.tw/2024/exhibition...</td>\n",
              "      <td>鼎峰亞太</td>\n",
              "      <td>P216</td>\n",
              "    </tr>\n",
              "  </tbody>\n",
              "</table>\n",
              "</div>\n",
              "    <div class=\"colab-df-buttons\">\n",
              "\n",
              "  <div class=\"colab-df-container\">\n",
              "    <button class=\"colab-df-convert\" onclick=\"convertToInteractive('df-381799bd-2894-46bb-9bce-0569489078ec')\"\n",
              "            title=\"Convert this dataframe to an interactive table.\"\n",
              "            style=\"display:none;\">\n",
              "\n",
              "  <svg xmlns=\"http://www.w3.org/2000/svg\" height=\"24px\" viewBox=\"0 -960 960 960\">\n",
              "    <path d=\"M120-120v-720h720v720H120Zm60-500h600v-160H180v160Zm220 220h160v-160H400v160Zm0 220h160v-160H400v160ZM180-400h160v-160H180v160Zm440 0h160v-160H620v160ZM180-180h160v-160H180v160Zm440 0h160v-160H620v160Z\"/>\n",
              "  </svg>\n",
              "    </button>\n",
              "\n",
              "  <style>\n",
              "    .colab-df-container {\n",
              "      display:flex;\n",
              "      gap: 12px;\n",
              "    }\n",
              "\n",
              "    .colab-df-convert {\n",
              "      background-color: #E8F0FE;\n",
              "      border: none;\n",
              "      border-radius: 50%;\n",
              "      cursor: pointer;\n",
              "      display: none;\n",
              "      fill: #1967D2;\n",
              "      height: 32px;\n",
              "      padding: 0 0 0 0;\n",
              "      width: 32px;\n",
              "    }\n",
              "\n",
              "    .colab-df-convert:hover {\n",
              "      background-color: #E2EBFA;\n",
              "      box-shadow: 0px 1px 2px rgba(60, 64, 67, 0.3), 0px 1px 3px 1px rgba(60, 64, 67, 0.15);\n",
              "      fill: #174EA6;\n",
              "    }\n",
              "\n",
              "    .colab-df-buttons div {\n",
              "      margin-bottom: 4px;\n",
              "    }\n",
              "\n",
              "    [theme=dark] .colab-df-convert {\n",
              "      background-color: #3B4455;\n",
              "      fill: #D2E3FC;\n",
              "    }\n",
              "\n",
              "    [theme=dark] .colab-df-convert:hover {\n",
              "      background-color: #434B5C;\n",
              "      box-shadow: 0px 1px 3px 1px rgba(0, 0, 0, 0.15);\n",
              "      filter: drop-shadow(0px 1px 2px rgba(0, 0, 0, 0.3));\n",
              "      fill: #FFFFFF;\n",
              "    }\n",
              "  </style>\n",
              "\n",
              "    <script>\n",
              "      const buttonEl =\n",
              "        document.querySelector('#df-381799bd-2894-46bb-9bce-0569489078ec button.colab-df-convert');\n",
              "      buttonEl.style.display =\n",
              "        google.colab.kernel.accessAllowed ? 'block' : 'none';\n",
              "\n",
              "      async function convertToInteractive(key) {\n",
              "        const element = document.querySelector('#df-381799bd-2894-46bb-9bce-0569489078ec');\n",
              "        const dataTable =\n",
              "          await google.colab.kernel.invokeFunction('convertToInteractive',\n",
              "                                                    [key], {});\n",
              "        if (!dataTable) return;\n",
              "\n",
              "        const docLinkHtml = 'Like what you see? Visit the ' +\n",
              "          '<a target=\"_blank\" href=https://colab.research.google.com/notebooks/data_table.ipynb>data table notebook</a>'\n",
              "          + ' to learn more about interactive tables.';\n",
              "        element.innerHTML = '';\n",
              "        dataTable['output_type'] = 'display_data';\n",
              "        await google.colab.output.renderOutput(dataTable, element);\n",
              "        const docLink = document.createElement('div');\n",
              "        docLink.innerHTML = docLinkHtml;\n",
              "        element.appendChild(docLink);\n",
              "      }\n",
              "    </script>\n",
              "  </div>\n",
              "\n",
              "\n",
              "<div id=\"df-bc8c5f84-6d1b-4328-ab25-05d59ed08046\">\n",
              "  <button class=\"colab-df-quickchart\" onclick=\"quickchart('df-bc8c5f84-6d1b-4328-ab25-05d59ed08046')\"\n",
              "            title=\"Suggest charts\"\n",
              "            style=\"display:none;\">\n",
              "\n",
              "<svg xmlns=\"http://www.w3.org/2000/svg\" height=\"24px\"viewBox=\"0 0 24 24\"\n",
              "     width=\"24px\">\n",
              "    <g>\n",
              "        <path d=\"M19 3H5c-1.1 0-2 .9-2 2v14c0 1.1.9 2 2 2h14c1.1 0 2-.9 2-2V5c0-1.1-.9-2-2-2zM9 17H7v-7h2v7zm4 0h-2V7h2v10zm4 0h-2v-4h2v4z\"/>\n",
              "    </g>\n",
              "</svg>\n",
              "  </button>\n",
              "\n",
              "<style>\n",
              "  .colab-df-quickchart {\n",
              "      --bg-color: #E8F0FE;\n",
              "      --fill-color: #1967D2;\n",
              "      --hover-bg-color: #E2EBFA;\n",
              "      --hover-fill-color: #174EA6;\n",
              "      --disabled-fill-color: #AAA;\n",
              "      --disabled-bg-color: #DDD;\n",
              "  }\n",
              "\n",
              "  [theme=dark] .colab-df-quickchart {\n",
              "      --bg-color: #3B4455;\n",
              "      --fill-color: #D2E3FC;\n",
              "      --hover-bg-color: #434B5C;\n",
              "      --hover-fill-color: #FFFFFF;\n",
              "      --disabled-bg-color: #3B4455;\n",
              "      --disabled-fill-color: #666;\n",
              "  }\n",
              "\n",
              "  .colab-df-quickchart {\n",
              "    background-color: var(--bg-color);\n",
              "    border: none;\n",
              "    border-radius: 50%;\n",
              "    cursor: pointer;\n",
              "    display: none;\n",
              "    fill: var(--fill-color);\n",
              "    height: 32px;\n",
              "    padding: 0;\n",
              "    width: 32px;\n",
              "  }\n",
              "\n",
              "  .colab-df-quickchart:hover {\n",
              "    background-color: var(--hover-bg-color);\n",
              "    box-shadow: 0 1px 2px rgba(60, 64, 67, 0.3), 0 1px 3px 1px rgba(60, 64, 67, 0.15);\n",
              "    fill: var(--button-hover-fill-color);\n",
              "  }\n",
              "\n",
              "  .colab-df-quickchart-complete:disabled,\n",
              "  .colab-df-quickchart-complete:disabled:hover {\n",
              "    background-color: var(--disabled-bg-color);\n",
              "    fill: var(--disabled-fill-color);\n",
              "    box-shadow: none;\n",
              "  }\n",
              "\n",
              "  .colab-df-spinner {\n",
              "    border: 2px solid var(--fill-color);\n",
              "    border-color: transparent;\n",
              "    border-bottom-color: var(--fill-color);\n",
              "    animation:\n",
              "      spin 1s steps(1) infinite;\n",
              "  }\n",
              "\n",
              "  @keyframes spin {\n",
              "    0% {\n",
              "      border-color: transparent;\n",
              "      border-bottom-color: var(--fill-color);\n",
              "      border-left-color: var(--fill-color);\n",
              "    }\n",
              "    20% {\n",
              "      border-color: transparent;\n",
              "      border-left-color: var(--fill-color);\n",
              "      border-top-color: var(--fill-color);\n",
              "    }\n",
              "    30% {\n",
              "      border-color: transparent;\n",
              "      border-left-color: var(--fill-color);\n",
              "      border-top-color: var(--fill-color);\n",
              "      border-right-color: var(--fill-color);\n",
              "    }\n",
              "    40% {\n",
              "      border-color: transparent;\n",
              "      border-right-color: var(--fill-color);\n",
              "      border-top-color: var(--fill-color);\n",
              "    }\n",
              "    60% {\n",
              "      border-color: transparent;\n",
              "      border-right-color: var(--fill-color);\n",
              "    }\n",
              "    80% {\n",
              "      border-color: transparent;\n",
              "      border-right-color: var(--fill-color);\n",
              "      border-bottom-color: var(--fill-color);\n",
              "    }\n",
              "    90% {\n",
              "      border-color: transparent;\n",
              "      border-bottom-color: var(--fill-color);\n",
              "    }\n",
              "  }\n",
              "</style>\n",
              "\n",
              "  <script>\n",
              "    async function quickchart(key) {\n",
              "      const quickchartButtonEl =\n",
              "        document.querySelector('#' + key + ' button');\n",
              "      quickchartButtonEl.disabled = true;  // To prevent multiple clicks.\n",
              "      quickchartButtonEl.classList.add('colab-df-spinner');\n",
              "      try {\n",
              "        const charts = await google.colab.kernel.invokeFunction(\n",
              "            'suggestCharts', [key], {});\n",
              "      } catch (error) {\n",
              "        console.error('Error during call to suggestCharts:', error);\n",
              "      }\n",
              "      quickchartButtonEl.classList.remove('colab-df-spinner');\n",
              "      quickchartButtonEl.classList.add('colab-df-quickchart-complete');\n",
              "    }\n",
              "    (() => {\n",
              "      let quickchartButtonEl =\n",
              "        document.querySelector('#df-bc8c5f84-6d1b-4328-ab25-05d59ed08046 button');\n",
              "      quickchartButtonEl.style.display =\n",
              "        google.colab.kernel.accessAllowed ? 'block' : 'none';\n",
              "    })();\n",
              "  </script>\n",
              "</div>\n",
              "\n",
              "    </div>\n",
              "  </div>\n"
            ],
            "application/vnd.google.colaboratory.intrinsic+json": {
              "type": "dataframe",
              "variable_name": "data",
              "summary": "{\n  \"name\": \"data\",\n  \"rows\": 374,\n  \"fields\": [\n    {\n      \"column\": \"exd_link\",\n      \"properties\": {\n        \"dtype\": \"string\",\n        \"num_unique_values\": 374,\n        \"samples\": [\n          \"https://cybersec.ithome.com.tw/2024/exhibition-page/2064\",\n          \"https://cybersec.ithome.com.tw/2024/exhibition-page/2227\",\n          \"https://cybersec.ithome.com.tw/2024/exhibition-page/2081\"\n        ],\n        \"semantic_type\": \"\",\n        \"description\": \"\"\n      }\n    },\n    {\n      \"column\": \"exd_name\",\n      \"properties\": {\n        \"dtype\": \"string\",\n        \"num_unique_values\": 360,\n        \"samples\": [\n          \"OutSystems\",\n          \"Cellebrite / \\u4ee3\\u7406\\uff1a\\u9ad8\\u7530\\u79d1\\u6280\\u6709\\u9650\\u516c\\u53f8\",\n          \"SYSCOM \\u51cc\\u7fa3\\u96fb\\u8166\"\n        ],\n        \"semantic_type\": \"\",\n        \"description\": \"\"\n      }\n    },\n    {\n      \"column\": \"exd_id\",\n      \"properties\": {\n        \"dtype\": \"string\",\n        \"num_unique_values\": 239,\n        \"samples\": [\n          \"P109\",\n          \"C111\",\n          \"C327\"\n        ],\n        \"semantic_type\": \"\",\n        \"description\": \"\"\n      }\n    }\n  ]\n}"
            }
          },
          "metadata": {},
          "execution_count": 10
        }
      ]
    },
    {
      "cell_type": "markdown",
      "source": [
        "## 參展店家: 取得更進一步的資訊"
      ],
      "metadata": {
        "id": "qg1TR_6icmvN"
      }
    },
    {
      "cell_type": "code",
      "source": [
        "# 老方法\n",
        "url = exd_cards_info[0]['exd_link']\n",
        "response = requests.get(url)\n",
        "soup = BeautifulSoup(response.text, \"html.parser\")\n",
        "tel = soup.find('span', attrs={'class': 'info-tel'})"
      ],
      "metadata": {
        "id": "PR_Giv9SeKzJ"
      },
      "execution_count": null,
      "outputs": []
    },
    {
      "cell_type": "code",
      "source": [
        "len(tel)"
      ],
      "metadata": {
        "id": "tmaeCBI0e5z7",
        "colab": {
          "base_uri": "https://localhost:8080/",
          "height": 141
        },
        "outputId": "3f2f6caa-33f4-457d-923e-b9e64be400f3"
      },
      "execution_count": null,
      "outputs": [
        {
          "output_type": "error",
          "ename": "TypeError",
          "evalue": "object of type 'NoneType' has no len()",
          "traceback": [
            "\u001b[0;31m---------------------------------------------------------------------------\u001b[0m",
            "\u001b[0;31mTypeError\u001b[0m                                 Traceback (most recent call last)",
            "\u001b[0;32m<ipython-input-12-0ef307d33d7c>\u001b[0m in \u001b[0;36m<cell line: 1>\u001b[0;34m()\u001b[0m\n\u001b[0;32m----> 1\u001b[0;31m \u001b[0mlen\u001b[0m\u001b[0;34m(\u001b[0m\u001b[0mtel\u001b[0m\u001b[0;34m)\u001b[0m\u001b[0;34m\u001b[0m\u001b[0;34m\u001b[0m\u001b[0m\n\u001b[0m",
            "\u001b[0;31mTypeError\u001b[0m: object of type 'NoneType' has no len()"
          ]
        }
      ]
    },
    {
      "cell_type": "code",
      "source": [
        "mail = soup.find('span', attrs={'class': 'info-mail'})"
      ],
      "metadata": {
        "id": "qrVPVx8efBAB"
      },
      "execution_count": null,
      "outputs": []
    },
    {
      "cell_type": "code",
      "source": [
        "len(mail)"
      ],
      "metadata": {
        "id": "FQMBOCvSfD-3",
        "colab": {
          "base_uri": "https://localhost:8080/",
          "height": 141
        },
        "outputId": "44758034-3d89-406a-9444-14cd7eb18a40"
      },
      "execution_count": null,
      "outputs": [
        {
          "output_type": "error",
          "ename": "TypeError",
          "evalue": "object of type 'NoneType' has no len()",
          "traceback": [
            "\u001b[0;31m---------------------------------------------------------------------------\u001b[0m",
            "\u001b[0;31mTypeError\u001b[0m                                 Traceback (most recent call last)",
            "\u001b[0;32m<ipython-input-14-d29b3f8d07b1>\u001b[0m in \u001b[0;36m<cell line: 1>\u001b[0;34m()\u001b[0m\n\u001b[0;32m----> 1\u001b[0;31m \u001b[0mlen\u001b[0m\u001b[0;34m(\u001b[0m\u001b[0mmail\u001b[0m\u001b[0;34m)\u001b[0m\u001b[0;34m\u001b[0m\u001b[0;34m\u001b[0m\u001b[0m\n\u001b[0m",
            "\u001b[0;31mTypeError\u001b[0m: object of type 'NoneType' has no len()"
          ]
        }
      ]
    },
    {
      "cell_type": "markdown",
      "source": [
        "### (參考)新方法一: regular expression 正則表達式"
      ],
      "metadata": {
        "id": "jWR0neFqnpdi"
      }
    },
    {
      "cell_type": "code",
      "source": [
        "response = requests.get(url)\n",
        "response"
      ],
      "metadata": {
        "colab": {
          "base_uri": "https://localhost:8080/"
        },
        "id": "P1mIlqAIjyOT",
        "outputId": "8d764622-8983-4eb2-db9d-1da241a25017"
      },
      "execution_count": null,
      "outputs": [
        {
          "output_type": "execute_result",
          "data": {
            "text/plain": [
              "<Response [200]>"
            ]
          },
          "metadata": {},
          "execution_count": 15
        }
      ]
    },
    {
      "cell_type": "code",
      "source": [
        "len(response.text)"
      ],
      "metadata": {
        "colab": {
          "base_uri": "https://localhost:8080/"
        },
        "id": "fZ3hURZwkjx6",
        "outputId": "1f75db45-20cb-4688-d49f-af8d3cf1e912"
      },
      "execution_count": null,
      "outputs": [
        {
          "output_type": "execute_result",
          "data": {
            "text/plain": [
              "28922"
            ]
          },
          "metadata": {},
          "execution_count": 16
        }
      ]
    },
    {
      "cell_type": "code",
      "source": [
        "# contact_email: \"apac@a10networks.com\",\n",
        "# contact_phone: \"886-2-2785-2729\",\n",
        "# link_website: \"http:\\u002F\\u002Fwww.a10networks.com\",\n",
        "# link_facebook: \"https:\\u002F\\u002Fwww.facebook.com\\u002Fa10networksTW\",\n",
        "# link_instagram: b,\n",
        "# link_youtube: b,\n",
        "# link_linkedin: \"https:\\u002F\\u002Fwww.linkedin.com\\u002Fcompany\\u002Fa10networks\\u002F\",\n",
        "# link_twitter: \"https:\\u002F\\u002Ftwitter.com\\u002Fa10networks\""
      ],
      "metadata": {
        "id": "aVwhVxI-lEqW"
      },
      "execution_count": null,
      "outputs": []
    },
    {
      "cell_type": "code",
      "source": [
        "# prompt: 請幫我生成一段regular expression 取得 contact_email 的程式碼\n",
        "# 原始格式為：contact_email:\"apac@a10networks.com\"\n",
        "\n",
        "import re\n",
        "pattern = r'contact_email:\"(.*?)\"'\n",
        "email = re.findall(pattern, response.text)\n",
        "print(email)\n"
      ],
      "metadata": {
        "colab": {
          "base_uri": "https://localhost:8080/"
        },
        "id": "qcU3R8eGkqpl",
        "outputId": "ca0c6404-eb95-4429-f02e-e1e23e6edf79"
      },
      "execution_count": null,
      "outputs": [
        {
          "output_type": "stream",
          "name": "stdout",
          "text": [
            "['apac@a10networks.com']\n"
          ]
        }
      ]
    },
    {
      "cell_type": "code",
      "source": [
        "pattern = r'contact_phone:\"(.*?)\"'\n",
        "phone = re.findall(pattern, response.text)\n",
        "print(phone)"
      ],
      "metadata": {
        "colab": {
          "base_uri": "https://localhost:8080/"
        },
        "id": "bp1SBAV6nMfL",
        "outputId": "f4a819bd-f20a-4d03-b65f-96eb1aac9107"
      },
      "execution_count": null,
      "outputs": [
        {
          "output_type": "stream",
          "name": "stdout",
          "text": [
            "['886-2-2785-2729']\n"
          ]
        }
      ]
    },
    {
      "cell_type": "code",
      "source": [
        "pattern = r'link_website:\"(.*?)\"'\n",
        "website = re.findall(pattern, response.text)\n",
        "print(website)"
      ],
      "metadata": {
        "colab": {
          "base_uri": "https://localhost:8080/"
        },
        "id": "F0lfCyH0nYHf",
        "outputId": "ac82ebee-acb1-41e0-ea4b-ac9b07f618ad"
      },
      "execution_count": null,
      "outputs": [
        {
          "output_type": "stream",
          "name": "stdout",
          "text": [
            "['http:\\\\u002F\\\\u002Fwww.a10networks.com']\n"
          ]
        }
      ]
    },
    {
      "cell_type": "code",
      "source": [
        "pattern = r'link_facebook:\"(.*?)\"'\n",
        "website = re.findall(pattern, response.text)\n",
        "print(website)"
      ],
      "metadata": {
        "colab": {
          "base_uri": "https://localhost:8080/"
        },
        "id": "yOgIj2kcg6MU",
        "outputId": "01b40ecd-81ba-452c-f354-bd9a37f66e6d"
      },
      "execution_count": null,
      "outputs": [
        {
          "output_type": "stream",
          "name": "stdout",
          "text": [
            "['https:\\\\u002F\\\\u002Fwww.facebook.com\\\\u002Fa10networksTW']\n"
          ]
        }
      ]
    },
    {
      "cell_type": "code",
      "source": [
        "pattern = r'link_linkedin:\"(.*?)\"'\n",
        "website = re.findall(pattern, response.text)\n",
        "print(website)"
      ],
      "metadata": {
        "colab": {
          "base_uri": "https://localhost:8080/",
          "height": 176
        },
        "id": "ywUcjoltg-ME",
        "outputId": "5c3a8a8b-f577-44f4-a0ed-fe02540c76ca"
      },
      "execution_count": null,
      "outputs": [
        {
          "output_type": "error",
          "ename": "AttributeError",
          "evalue": "module 're' has no attribute 'find'",
          "traceback": [
            "\u001b[0;31m---------------------------------------------------------------------------\u001b[0m",
            "\u001b[0;31mAttributeError\u001b[0m                            Traceback (most recent call last)",
            "\u001b[0;32m<ipython-input-23-8009671c5c81>\u001b[0m in \u001b[0;36m<cell line: 2>\u001b[0;34m()\u001b[0m\n\u001b[1;32m      1\u001b[0m \u001b[0mpattern\u001b[0m \u001b[0;34m=\u001b[0m \u001b[0;34mr'link_linkedin:\"(.*?)\"'\u001b[0m\u001b[0;34m\u001b[0m\u001b[0;34m\u001b[0m\u001b[0m\n\u001b[0;32m----> 2\u001b[0;31m \u001b[0mwebsite\u001b[0m \u001b[0;34m=\u001b[0m \u001b[0mre\u001b[0m\u001b[0;34m.\u001b[0m\u001b[0mfind\u001b[0m\u001b[0;34m(\u001b[0m\u001b[0mpattern\u001b[0m\u001b[0;34m,\u001b[0m \u001b[0mresponse\u001b[0m\u001b[0;34m.\u001b[0m\u001b[0mtext\u001b[0m\u001b[0;34m)\u001b[0m\u001b[0;34m\u001b[0m\u001b[0;34m\u001b[0m\u001b[0m\n\u001b[0m\u001b[1;32m      3\u001b[0m \u001b[0mprint\u001b[0m\u001b[0;34m(\u001b[0m\u001b[0mwebsite\u001b[0m\u001b[0;34m)\u001b[0m\u001b[0;34m\u001b[0m\u001b[0;34m\u001b[0m\u001b[0m\n",
            "\u001b[0;31mAttributeError\u001b[0m: module 're' has no attribute 'find'"
          ]
        }
      ]
    },
    {
      "cell_type": "code",
      "source": [
        "exd_cards_info[:3]"
      ],
      "metadata": {
        "colab": {
          "base_uri": "https://localhost:8080/"
        },
        "id": "T-N0DgrLjg7R",
        "outputId": "1d77e69a-8368-41eb-c382-dd1fa3904f02"
      },
      "execution_count": null,
      "outputs": [
        {
          "output_type": "execute_result",
          "data": {
            "text/plain": [
              "[{'exd_link': 'https://cybersec.ithome.com.tw/2024/exhibition-page/2054',\n",
              "  'exd_name': 'A10 Networks',\n",
              "  'exd_id': 'C307'},\n",
              " {'exd_link': 'https://cybersec.ithome.com.tw/2024/exhibition-page/2226',\n",
              "  'exd_name': '三甲科技',\n",
              "  'exd_id': 'T37'},\n",
              " {'exd_link': 'https://cybersec.ithome.com.tw/2024/exhibition-page/2079',\n",
              "  'exd_name': 'ABPSecurite',\n",
              "  'exd_id': 'P302'}]"
            ]
          },
          "metadata": {},
          "execution_count": 25
        }
      ]
    },
    {
      "cell_type": "code",
      "source": [
        "import time\n",
        "# 整理程式碼\n",
        "for exd_info in exd_cards_info: # 我針對每一組card的資料，去取得連結\n",
        "\n",
        "  time.sleep(3) # delay 3 sec，避免被網站阻擋請求。\n",
        "\n",
        "  url = exd_info['exd_link'] # 取得URL\n",
        "  response = requests.get(url) # 利用request去取得網站的HTML+JS\n",
        "\n",
        "  email = re.findall(r'contact_email:\"(.*?)\"', response.text)\n",
        "  email = email[0] if email else \"\"  # Comprehension\n",
        "\n",
        "  phone = re.findall(r'contact_phone:\"(.*?)\"', response.text)\n",
        "  if phone:\n",
        "    phone = phone[0]\n",
        "  else:\n",
        "    phone = \"\"\n",
        "\n",
        "  website = re.findall(r'link_website:\"(.*?)\"', response.text)\n",
        "  if website:\n",
        "    website = website[0].replace(\"\\\\u002F\", \"\\\\\")\n",
        "  else:\n",
        "    website = \"\"\n",
        "\n",
        "  # 更新新收集資料到dictionary內\n",
        "  exd_info['email'] = email\n",
        "  exd_info['phone'] = phone\n",
        "  exd_info['website'] = website\n"
      ],
      "metadata": {
        "id": "kxM7EjIyhN7j"
      },
      "execution_count": null,
      "outputs": []
    },
    {
      "cell_type": "code",
      "source": [
        "exd_cards_info[:3]"
      ],
      "metadata": {
        "colab": {
          "base_uri": "https://localhost:8080/"
        },
        "id": "KntgNQxqrTfS",
        "outputId": "066a790c-bbf7-4c92-bfba-b245c8c98906"
      },
      "execution_count": null,
      "outputs": [
        {
          "output_type": "execute_result",
          "data": {
            "text/plain": [
              "[{'exd_link': 'https://cybersec.ithome.com.tw/2024/exhibition-page/2054',\n",
              "  'exd_name': 'A10 Networks',\n",
              "  'exd_id': 'C307',\n",
              "  'email': 'apac@a10networks.com',\n",
              "  'phone': '886-2-2785-2729',\n",
              "  'website': 'http:\\\\\\\\www.a10networks.com'},\n",
              " {'exd_link': 'https://cybersec.ithome.com.tw/2024/exhibition-page/2226',\n",
              "  'exd_name': '三甲科技',\n",
              "  'exd_id': 'T37',\n",
              "  'email': 'service@aaasec.com.tw',\n",
              "  'phone': '04-2452-4234',\n",
              "  'website': ''},\n",
              " {'exd_link': 'https://cybersec.ithome.com.tw/2024/exhibition-page/2079',\n",
              "  'exd_name': 'ABPSecurite',\n",
              "  'exd_id': 'P302',\n",
              "  'email': 'sales@abpsecurite.com',\n",
              "  'phone': '',\n",
              "  'website': 'https:\\\\\\\\www.abpsecurite.com\\\\'}]"
            ]
          },
          "metadata": {},
          "execution_count": 27
        }
      ]
    },
    {
      "cell_type": "code",
      "source": [
        "import pandas as pd\n",
        "data = pd.DataFrame(exd_cards_info) # 轉換成DataFrame\n",
        "data.to_csv('/content/drive/MyDrive/上課教材/Python/網路爬蟲 Scraper/cybersec_exd.csv')"
      ],
      "metadata": {
        "id": "izNWmHd8rp7T"
      },
      "execution_count": null,
      "outputs": []
    },
    {
      "cell_type": "markdown",
      "source": [
        "### 方法二 - 模擬瀏覽器 Selenium"
      ],
      "metadata": {
        "id": "9Au9b3jaoCRZ"
      }
    },
    {
      "cell_type": "code",
      "source": [
        "# https://selenium-python-zh.readthedocs.io/en/latest/\n",
        "# 轉移到 VSCode 進行"
      ],
      "metadata": {
        "colab": {
          "base_uri": "https://localhost:8080/"
        },
        "id": "Ig3hL3C9oBtl",
        "outputId": "25b0c031-5b22-4101-d7d4-65a07beb6a91"
      },
      "execution_count": null,
      "outputs": [
        {
          "output_type": "stream",
          "name": "stdout",
          "text": [
            "Collecting Selenium\n",
            "  Downloading selenium-4.23.1-py3-none-any.whl.metadata (7.1 kB)\n",
            "Requirement already satisfied: urllib3<3,>=1.26 in /usr/local/lib/python3.10/dist-packages (from urllib3[socks]<3,>=1.26->Selenium) (2.0.7)\n",
            "Collecting trio~=0.17 (from Selenium)\n",
            "  Downloading trio-0.26.1-py3-none-any.whl.metadata (8.6 kB)\n",
            "Collecting trio-websocket~=0.9 (from Selenium)\n",
            "  Downloading trio_websocket-0.11.1-py3-none-any.whl.metadata (4.7 kB)\n",
            "Requirement already satisfied: certifi>=2021.10.8 in /usr/local/lib/python3.10/dist-packages (from Selenium) (2024.7.4)\n",
            "Requirement already satisfied: typing_extensions~=4.9 in /usr/local/lib/python3.10/dist-packages (from Selenium) (4.12.2)\n",
            "Requirement already satisfied: websocket-client~=1.8 in /usr/local/lib/python3.10/dist-packages (from Selenium) (1.8.0)\n",
            "Requirement already satisfied: attrs>=23.2.0 in /usr/local/lib/python3.10/dist-packages (from trio~=0.17->Selenium) (23.2.0)\n",
            "Requirement already satisfied: sortedcontainers in /usr/local/lib/python3.10/dist-packages (from trio~=0.17->Selenium) (2.4.0)\n",
            "Requirement already satisfied: idna in /usr/local/lib/python3.10/dist-packages (from trio~=0.17->Selenium) (3.7)\n",
            "Collecting outcome (from trio~=0.17->Selenium)\n",
            "  Downloading outcome-1.3.0.post0-py2.py3-none-any.whl.metadata (2.6 kB)\n",
            "Requirement already satisfied: sniffio>=1.3.0 in /usr/local/lib/python3.10/dist-packages (from trio~=0.17->Selenium) (1.3.1)\n",
            "Requirement already satisfied: exceptiongroup in /usr/local/lib/python3.10/dist-packages (from trio~=0.17->Selenium) (1.2.2)\n",
            "Collecting wsproto>=0.14 (from trio-websocket~=0.9->Selenium)\n",
            "  Downloading wsproto-1.2.0-py3-none-any.whl.metadata (5.6 kB)\n",
            "Requirement already satisfied: pysocks!=1.5.7,<2.0,>=1.5.6 in /usr/local/lib/python3.10/dist-packages (from urllib3[socks]<3,>=1.26->Selenium) (1.7.1)\n",
            "Collecting h11<1,>=0.9.0 (from wsproto>=0.14->trio-websocket~=0.9->Selenium)\n",
            "  Downloading h11-0.14.0-py3-none-any.whl.metadata (8.2 kB)\n",
            "Downloading selenium-4.23.1-py3-none-any.whl (9.4 MB)\n",
            "\u001b[2K   \u001b[90m━━━━━━━━━━━━━━━━━━━━━━━━━━━━━━━━━━━━━━━━\u001b[0m \u001b[32m9.4/9.4 MB\u001b[0m \u001b[31m41.9 MB/s\u001b[0m eta \u001b[36m0:00:00\u001b[0m\n",
            "\u001b[?25hDownloading trio-0.26.1-py3-none-any.whl (475 kB)\n",
            "\u001b[2K   \u001b[90m━━━━━━━━━━━━━━━━━━━━━━━━━━━━━━━━━━━━━━━━\u001b[0m \u001b[32m475.7/475.7 kB\u001b[0m \u001b[31m25.1 MB/s\u001b[0m eta \u001b[36m0:00:00\u001b[0m\n",
            "\u001b[?25hDownloading trio_websocket-0.11.1-py3-none-any.whl (17 kB)\n",
            "Downloading wsproto-1.2.0-py3-none-any.whl (24 kB)\n",
            "Downloading outcome-1.3.0.post0-py2.py3-none-any.whl (10 kB)\n",
            "Downloading h11-0.14.0-py3-none-any.whl (58 kB)\n",
            "\u001b[2K   \u001b[90m━━━━━━━━━━━━━━━━━━━━━━━━━━━━━━━━━━━━━━━━\u001b[0m \u001b[32m58.3/58.3 kB\u001b[0m \u001b[31m4.0 MB/s\u001b[0m eta \u001b[36m0:00:00\u001b[0m\n",
            "\u001b[?25hInstalling collected packages: outcome, h11, wsproto, trio, trio-websocket, Selenium\n",
            "Successfully installed Selenium-4.23.1 h11-0.14.0 outcome-1.3.0.post0 trio-0.26.1 trio-websocket-0.11.1 wsproto-1.2.0\n"
          ]
        }
      ]
    },
    {
      "cell_type": "markdown",
      "source": [
        "## 與會講者"
      ],
      "metadata": {
        "id": "pqt7meGUIwtY"
      }
    },
    {
      "cell_type": "code",
      "source": [
        "speaker_url = \"https://cybersec.ithome.com.tw/2024/speaker\"\n",
        "response = requests.get(speaker_url)\n",
        "response"
      ],
      "metadata": {
        "colab": {
          "base_uri": "https://localhost:8080/"
        },
        "id": "QlBPCZNBI1Ct",
        "outputId": "a5e1ec4b-c8d1-4b76-dfde-f41940799685"
      },
      "execution_count": null,
      "outputs": [
        {
          "output_type": "execute_result",
          "data": {
            "text/plain": [
              "<Response [200]>"
            ]
          },
          "metadata": {},
          "execution_count": 12
        }
      ]
    },
    {
      "cell_type": "code",
      "source": [
        "len(response.text)"
      ],
      "metadata": {
        "colab": {
          "base_uri": "https://localhost:8080/"
        },
        "id": "zMtxNcDGKDyC",
        "outputId": "1a2a1a59-3745-474a-cec6-980f70c23144"
      },
      "execution_count": null,
      "outputs": [
        {
          "output_type": "execute_result",
          "data": {
            "text/plain": [
              "214961"
            ]
          },
          "metadata": {},
          "execution_count": 14
        }
      ]
    },
    {
      "cell_type": "code",
      "source": [
        "soup = BeautifulSoup(response.text, \"html.parser\")\n",
        "speaker_cards = soup.find_all(\"div\", attrs={\"class\": \"col-md-3 sp-card-area\"})\n",
        "len(speaker_cards)"
      ],
      "metadata": {
        "colab": {
          "base_uri": "https://localhost:8080/"
        },
        "id": "5vjxOWYVJsxp",
        "outputId": "3edd9f3a-cab6-4e9a-eab9-4a10648c7ff3"
      },
      "execution_count": null,
      "outputs": [
        {
          "output_type": "execute_result",
          "data": {
            "text/plain": [
              "0"
            ]
          },
          "metadata": {},
          "execution_count": 13
        }
      ]
    },
    {
      "cell_type": "code",
      "source": [
        "!apt-get update\n",
        "!apt install chromium-chromedriver\n",
        "!cp /usr/lib/chromium-browser/chromedriver /usr/bin\n",
        "!pip install selenium"
      ],
      "metadata": {
        "id": "pwahzpbnJ850"
      },
      "execution_count": null,
      "outputs": []
    },
    {
      "cell_type": "code",
      "source": [
        "# 匯入與設定 Selenium\n",
        "from selenium import webdriver\n",
        "from selenium.webdriver.common.by import By\n",
        "chrome_options = webdriver.ChromeOptions()\n",
        "chrome_options.add_argument('--headless') # 不開啟瀏覽器視窗\n",
        "chrome_options.add_argument('--no-sandbox') # 無痕\n",
        "chrome_options.headless = True\n",
        "driver = webdriver.Chrome(options=chrome_options)"
      ],
      "metadata": {
        "id": "2E-OzggPLOq7"
      },
      "execution_count": null,
      "outputs": []
    }
  ]
}